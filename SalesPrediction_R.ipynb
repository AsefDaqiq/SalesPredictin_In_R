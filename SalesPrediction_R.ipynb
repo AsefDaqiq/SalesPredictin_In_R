{
 "cells": [
  {
   "cell_type": "code",
   "execution_count": 11,
   "metadata": {},
   "outputs": [],
   "source": [
    "# importing the data set\n",
    "dataset = read.csv(\"50_Startups.csv\")"
   ]
  },
  {
   "cell_type": "markdown",
   "metadata": {},
   "source": [
    "## basic data exploratory"
   ]
  },
  {
   "cell_type": "code",
   "execution_count": 12,
   "metadata": {},
   "outputs": [
    {
     "data": {
      "text/html": [
       "<table>\n",
       "<thead><tr><th scope=col>R.D.Spend</th><th scope=col>Administration</th><th scope=col>Marketing.Spend</th><th scope=col>State</th><th scope=col>Profit</th></tr></thead>\n",
       "<tbody>\n",
       "\t<tr><td>165349.2  </td><td>136897.80 </td><td>471784.1  </td><td>New York  </td><td>192261.8  </td></tr>\n",
       "\t<tr><td>162597.7  </td><td>151377.59 </td><td>443898.5  </td><td>California</td><td>191792.1  </td></tr>\n",
       "\t<tr><td>153441.5  </td><td>101145.55 </td><td>407934.5  </td><td>Florida   </td><td>191050.4  </td></tr>\n",
       "\t<tr><td>144372.4  </td><td>118671.85 </td><td>383199.6  </td><td>New York  </td><td>182902.0  </td></tr>\n",
       "\t<tr><td>142107.3  </td><td> 91391.77 </td><td>366168.4  </td><td>Florida   </td><td>166187.9  </td></tr>\n",
       "\t<tr><td>131876.9  </td><td> 99814.71 </td><td>362861.4  </td><td>New York  </td><td>156991.1  </td></tr>\n",
       "</tbody>\n",
       "</table>\n"
      ],
      "text/latex": [
       "\\begin{tabular}{r|lllll}\n",
       " R.D.Spend & Administration & Marketing.Spend & State & Profit\\\\\n",
       "\\hline\n",
       "\t 165349.2   & 136897.80  & 471784.1   & New York   & 192261.8  \\\\\n",
       "\t 162597.7   & 151377.59  & 443898.5   & California & 191792.1  \\\\\n",
       "\t 153441.5   & 101145.55  & 407934.5   & Florida    & 191050.4  \\\\\n",
       "\t 144372.4   & 118671.85  & 383199.6   & New York   & 182902.0  \\\\\n",
       "\t 142107.3   &  91391.77  & 366168.4   & Florida    & 166187.9  \\\\\n",
       "\t 131876.9   &  99814.71  & 362861.4   & New York   & 156991.1  \\\\\n",
       "\\end{tabular}\n"
      ],
      "text/markdown": [
       "\n",
       "R.D.Spend | Administration | Marketing.Spend | State | Profit | \n",
       "|---|---|---|---|---|---|\n",
       "| 165349.2   | 136897.80  | 471784.1   | New York   | 192261.8   | \n",
       "| 162597.7   | 151377.59  | 443898.5   | California | 191792.1   | \n",
       "| 153441.5   | 101145.55  | 407934.5   | Florida    | 191050.4   | \n",
       "| 144372.4   | 118671.85  | 383199.6   | New York   | 182902.0   | \n",
       "| 142107.3   |  91391.77  | 366168.4   | Florida    | 166187.9   | \n",
       "| 131876.9   |  99814.71  | 362861.4   | New York   | 156991.1   | \n",
       "\n",
       "\n"
      ],
      "text/plain": [
       "  R.D.Spend Administration Marketing.Spend State      Profit  \n",
       "1 165349.2  136897.80      471784.1        New York   192261.8\n",
       "2 162597.7  151377.59      443898.5        California 191792.1\n",
       "3 153441.5  101145.55      407934.5        Florida    191050.4\n",
       "4 144372.4  118671.85      383199.6        New York   182902.0\n",
       "5 142107.3   91391.77      366168.4        Florida    166187.9\n",
       "6 131876.9   99814.71      362861.4        New York   156991.1"
      ]
     },
     "metadata": {},
     "output_type": "display_data"
    }
   ],
   "source": [
    "#checking the head of the dataset\n",
    "head(dataset)"
   ]
  },
  {
   "cell_type": "code",
   "execution_count": 13,
   "metadata": {},
   "outputs": [
    {
     "name": "stdout",
     "output_type": "stream",
     "text": [
      "'data.frame':\t50 obs. of  5 variables:\n",
      " $ R.D.Spend      : num  165349 162598 153442 144372 142107 ...\n",
      " $ Administration : num  136898 151378 101146 118672 91392 ...\n",
      " $ Marketing.Spend: num  471784 443899 407935 383200 366168 ...\n",
      " $ State          : Factor w/ 3 levels \"California\",\"Florida\",..: 3 1 2 3 2 3 1 2 3 1 ...\n",
      " $ Profit         : num  192262 191792 191050 182902 166188 ...\n"
     ]
    }
   ],
   "source": [
    "#looking at the structure of the data set\n",
    "str(dataset)"
   ]
  },
  {
   "cell_type": "code",
   "execution_count": 14,
   "metadata": {},
   "outputs": [
    {
     "data": {
      "text/plain": [
       "   R.D.Spend      Administration   Marketing.Spend         State   \n",
       " Min.   :     0   Min.   : 51283   Min.   :     0   California:17  \n",
       " 1st Qu.: 39936   1st Qu.:103731   1st Qu.:129300   Florida   :16  \n",
       " Median : 73051   Median :122700   Median :212716   New York  :17  \n",
       " Mean   : 73722   Mean   :121345   Mean   :211025                  \n",
       " 3rd Qu.:101603   3rd Qu.:144842   3rd Qu.:299469                  \n",
       " Max.   :165349   Max.   :182646   Max.   :471784                  \n",
       "     Profit      \n",
       " Min.   : 14681  \n",
       " 1st Qu.: 90139  \n",
       " Median :107978  \n",
       " Mean   :112013  \n",
       " 3rd Qu.:139766  \n",
       " Max.   :192262  "
      ]
     },
     "metadata": {},
     "output_type": "display_data"
    }
   ],
   "source": [
    "# looking at some statistical info about data set\n",
    "summary(dataset)"
   ]
  },
  {
   "cell_type": "code",
   "execution_count": 15,
   "metadata": {},
   "outputs": [
    {
     "data": {
      "text/html": [
       "FALSE"
      ],
      "text/latex": [
       "FALSE"
      ],
      "text/markdown": [
       "FALSE"
      ],
      "text/plain": [
       "[1] FALSE"
      ]
     },
     "metadata": {},
     "output_type": "display_data"
    }
   ],
   "source": [
    "#checking if any null values exist in our data set\n",
    "any(is.na(dataset))"
   ]
  },
  {
   "cell_type": "markdown",
   "metadata": {},
   "source": [
    "# converting the categorical data into numeric"
   ]
  },
  {
   "cell_type": "code",
   "execution_count": 16,
   "metadata": {},
   "outputs": [],
   "source": [
    "dataset$State = factor(dataset$State,\n",
    "                       levels = c(\"New York\", \"California\", \"Florida\"),\n",
    "                       labels = c(1,2,3))"
   ]
  },
  {
   "cell_type": "code",
   "execution_count": 17,
   "metadata": {},
   "outputs": [
    {
     "data": {
      "text/html": [
       "<table>\n",
       "<thead><tr><th scope=col>R.D.Spend</th><th scope=col>Administration</th><th scope=col>Marketing.Spend</th><th scope=col>State</th><th scope=col>Profit</th></tr></thead>\n",
       "<tbody>\n",
       "\t<tr><td>165349.2 </td><td>136897.80</td><td>471784.1 </td><td>1        </td><td>192261.8 </td></tr>\n",
       "\t<tr><td>162597.7 </td><td>151377.59</td><td>443898.5 </td><td>2        </td><td>191792.1 </td></tr>\n",
       "\t<tr><td>153441.5 </td><td>101145.55</td><td>407934.5 </td><td>3        </td><td>191050.4 </td></tr>\n",
       "\t<tr><td>144372.4 </td><td>118671.85</td><td>383199.6 </td><td>1        </td><td>182902.0 </td></tr>\n",
       "\t<tr><td>142107.3 </td><td> 91391.77</td><td>366168.4 </td><td>3        </td><td>166187.9 </td></tr>\n",
       "\t<tr><td>131876.9 </td><td> 99814.71</td><td>362861.4 </td><td>1        </td><td>156991.1 </td></tr>\n",
       "</tbody>\n",
       "</table>\n"
      ],
      "text/latex": [
       "\\begin{tabular}{r|lllll}\n",
       " R.D.Spend & Administration & Marketing.Spend & State & Profit\\\\\n",
       "\\hline\n",
       "\t 165349.2  & 136897.80 & 471784.1  & 1         & 192261.8 \\\\\n",
       "\t 162597.7  & 151377.59 & 443898.5  & 2         & 191792.1 \\\\\n",
       "\t 153441.5  & 101145.55 & 407934.5  & 3         & 191050.4 \\\\\n",
       "\t 144372.4  & 118671.85 & 383199.6  & 1         & 182902.0 \\\\\n",
       "\t 142107.3  &  91391.77 & 366168.4  & 3         & 166187.9 \\\\\n",
       "\t 131876.9  &  99814.71 & 362861.4  & 1         & 156991.1 \\\\\n",
       "\\end{tabular}\n"
      ],
      "text/markdown": [
       "\n",
       "R.D.Spend | Administration | Marketing.Spend | State | Profit | \n",
       "|---|---|---|---|---|---|\n",
       "| 165349.2  | 136897.80 | 471784.1  | 1         | 192261.8  | \n",
       "| 162597.7  | 151377.59 | 443898.5  | 2         | 191792.1  | \n",
       "| 153441.5  | 101145.55 | 407934.5  | 3         | 191050.4  | \n",
       "| 144372.4  | 118671.85 | 383199.6  | 1         | 182902.0  | \n",
       "| 142107.3  |  91391.77 | 366168.4  | 3         | 166187.9  | \n",
       "| 131876.9  |  99814.71 | 362861.4  | 1         | 156991.1  | \n",
       "\n",
       "\n"
      ],
      "text/plain": [
       "  R.D.Spend Administration Marketing.Spend State Profit  \n",
       "1 165349.2  136897.80      471784.1        1     192261.8\n",
       "2 162597.7  151377.59      443898.5        2     191792.1\n",
       "3 153441.5  101145.55      407934.5        3     191050.4\n",
       "4 144372.4  118671.85      383199.6        1     182902.0\n",
       "5 142107.3   91391.77      366168.4        3     166187.9\n",
       "6 131876.9   99814.71      362861.4        1     156991.1"
      ]
     },
     "metadata": {},
     "output_type": "display_data"
    }
   ],
   "source": [
    "head(dataset)"
   ]
  },
  {
   "cell_type": "markdown",
   "metadata": {},
   "source": [
    "### spliting the dataset into training and test set"
   ]
  },
  {
   "cell_type": "code",
   "execution_count": 19,
   "metadata": {},
   "outputs": [],
   "source": [
    "library(caTools)\n",
    "set.seed(100)\n",
    "spliter = sample.split(Y = dataset$Profit, SplitRatio = 0.8)\n",
    "training_set = subset(dataset, spliter == TRUE)\n",
    "testing_set = subset(dataset, spliter == FALSE)"
   ]
  },
  {
   "cell_type": "markdown",
   "metadata": {},
   "source": [
    "# building the linear model"
   ]
  },
  {
   "cell_type": "code",
   "execution_count": 20,
   "metadata": {},
   "outputs": [],
   "source": [
    "model = lm(formula = Profit ~., data = training_set)"
   ]
  },
  {
   "cell_type": "code",
   "execution_count": 22,
   "metadata": {},
   "outputs": [
    {
     "name": "stdout",
     "output_type": "stream",
     "text": [
      "\n",
      "Call:\n",
      "lm(formula = Profit ~ ., data = training_set)\n",
      "\n",
      "Residuals:\n",
      "   Min     1Q Median     3Q    Max \n",
      "-32380  -4586   -190   4940  20038 \n",
      "\n",
      "Coefficients:\n",
      "                 Estimate Std. Error t value Pr(>|t|)    \n",
      "(Intercept)     4.171e+04  8.420e+03   4.954 1.97e-05 ***\n",
      "R.D.Spend       8.146e-01  5.828e-02  13.977 1.18e-15 ***\n",
      "Administration  1.858e-02  6.098e-02   0.305    0.762    \n",
      "Marketing.Spend 2.873e-02  2.083e-02   1.379    0.177    \n",
      "State2          1.878e+03  4.104e+03   0.458    0.650    \n",
      "State3          1.584e+03  4.024e+03   0.394    0.696    \n",
      "---\n",
      "Signif. codes:  0 '***' 0.001 '**' 0.01 '*' 0.05 '.' 0.1 ' ' 1\n",
      "\n",
      "Residual standard error: 9938 on 34 degrees of freedom\n",
      "Multiple R-squared:  0.9496,\tAdjusted R-squared:  0.9421 \n",
      "F-statistic:   128 on 5 and 34 DF,  p-value: < 2.2e-16\n",
      "\n"
     ]
    }
   ],
   "source": [
    "# lets check the summary of the model\n",
    "print(summary(model))"
   ]
  },
  {
   "cell_type": "markdown",
   "metadata": {},
   "source": [
    "### based on the p-value interpertation, only 'R.D.Spend' variable has significant for our model building"
   ]
  },
  {
   "cell_type": "code",
   "execution_count": 27,
   "metadata": {},
   "outputs": [],
   "source": [
    "#removing the insignificant variable 'Administration'\n",
    "# building the model with the rest of the indep. variable\n",
    "model2 = lm(formula = Profit ~ R.D.Spend + Marketing.Spend + State, data = training_set)"
   ]
  },
  {
   "cell_type": "code",
   "execution_count": 28,
   "metadata": {},
   "outputs": [
    {
     "name": "stdout",
     "output_type": "stream",
     "text": [
      "\n",
      "Call:\n",
      "lm(formula = Profit ~ R.D.Spend + Marketing.Spend + State, data = training_set)\n",
      "\n",
      "Residuals:\n",
      "   Min     1Q Median     3Q    Max \n",
      "-32337  -4930    376   5193  20149 \n",
      "\n",
      "Coefficients:\n",
      "                 Estimate Std. Error t value Pr(>|t|)    \n",
      "(Intercept)     4.390e+04  4.310e+03  10.188  5.2e-12 ***\n",
      "R.D.Spend       8.198e-01  5.497e-02  14.912  < 2e-16 ***\n",
      "Marketing.Spend 2.722e-02  1.997e-02   1.363    0.181    \n",
      "State2          1.884e+03  4.050e+03   0.465    0.645    \n",
      "State3          1.662e+03  3.963e+03   0.419    0.677    \n",
      "---\n",
      "Signif. codes:  0 '***' 0.001 '**' 0.01 '*' 0.05 '.' 0.1 ' ' 1\n",
      "\n",
      "Residual standard error: 9808 on 35 degrees of freedom\n",
      "Multiple R-squared:  0.9494,\tAdjusted R-squared:  0.9436 \n",
      "F-statistic: 164.3 on 4 and 35 DF,  p-value: < 2.2e-16\n",
      "\n"
     ]
    }
   ],
   "source": [
    "# let's print the summary of the new model\n",
    "print(summary(model2))"
   ]
  },
  {
   "cell_type": "code",
   "execution_count": 29,
   "metadata": {},
   "outputs": [],
   "source": [
    "# we will build our new model by only using the 'R.D.Spend' variable\n",
    "model3 = lm(formula = Profit ~ R.D.Spend, data = training_set)"
   ]
  },
  {
   "cell_type": "code",
   "execution_count": 31,
   "metadata": {},
   "outputs": [
    {
     "name": "stdout",
     "output_type": "stream",
     "text": [
      "\n",
      "Call:\n",
      "lm(formula = Profit ~ R.D.Spend, data = training_set)\n",
      "\n",
      "Residuals:\n",
      "   Min     1Q Median     3Q    Max \n",
      "-32393  -4874    134   5177  18628 \n",
      "\n",
      "Coefficients:\n",
      "             Estimate Std. Error t value Pr(>|t|)    \n",
      "(Intercept) 4.707e+04  3.085e+03   15.26   <2e-16 ***\n",
      "R.D.Spend   8.724e-01  3.390e-02   25.73   <2e-16 ***\n",
      "---\n",
      "Signif. codes:  0 '***' 0.001 '**' 0.01 '*' 0.05 '.' 0.1 ' ' 1\n",
      "\n",
      "Residual standard error: 9751 on 38 degrees of freedom\n",
      "Multiple R-squared:  0.9457,\tAdjusted R-squared:  0.9443 \n",
      "F-statistic: 662.2 on 1 and 38 DF,  p-value: < 2.2e-16\n",
      "\n"
     ]
    }
   ],
   "source": [
    "# let's print the summary of the new model\n",
    "print(summary(model3))"
   ]
  },
  {
   "cell_type": "code",
   "execution_count": null,
   "metadata": {},
   "outputs": [],
   "source": []
  }
 ],
 "metadata": {
  "kernelspec": {
   "display_name": "R",
   "language": "R",
   "name": "ir"
  },
  "language_info": {
   "codemirror_mode": "r",
   "file_extension": ".r",
   "mimetype": "text/x-r-source",
   "name": "R",
   "pygments_lexer": "r",
   "version": "3.5.1"
  }
 },
 "nbformat": 4,
 "nbformat_minor": 2
}
